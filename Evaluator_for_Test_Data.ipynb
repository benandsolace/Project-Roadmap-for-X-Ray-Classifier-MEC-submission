{
  "nbformat": 4,
  "nbformat_minor": 0,
  "metadata": {
    "colab": {
      "name": "Evaluator for Test Data.ipynb",
      "provenance": [],
      "private_outputs": true,
      "collapsed_sections": []
    },
    "kernelspec": {
      "name": "python3",
      "display_name": "Python 3"
    },
    "accelerator": "GPU"
  },
  "cells": [
    {
      "cell_type": "code",
      "metadata": {
        "id": "sGvcrjIUvDAB",
        "colab_type": "code",
        "colab": {}
      },
      "source": [
        "from google.colab import drive\n",
        "drive.mount('/content/drive')"
      ],
      "execution_count": null,
      "outputs": []
    },
    {
      "cell_type": "code",
      "metadata": {
        "id": "fwLEzIH9vTGB",
        "colab_type": "code",
        "colab": {}
      },
      "source": [
        "import sys\n",
        "sys.path.append('/content/drive/My Drive/')"
      ],
      "execution_count": null,
      "outputs": []
    },
    {
      "cell_type": "code",
      "metadata": {
        "id": "uSADHnXtvxvO",
        "colab_type": "code",
        "colab": {}
      },
      "source": [
        "import torch\n",
        "import torch.nn as nn\n",
        "import torch.optim as optim\n",
        "import numpy as np\n",
        "import torchvision\n",
        "from torchvision import datasets, models, transforms\n",
        "import os\n",
        "import pandas as pd\n",
        "import matplotlib.pyplot as plt\n",
        "import utils\n",
        "\n",
        "from PIL import Image, ImageDraw\n",
        "from sklearn.metrics import roc_auc_score, roc_curve, auc\n",
        "from tqdm import tqdm\n",
        "\n",
        "from __future__ import print_function\n",
        "from __future__ import division\n",
        "\n",
        "import time\n",
        "import copy"
      ],
      "execution_count": null,
      "outputs": []
    },
    {
      "cell_type": "code",
      "metadata": {
        "id": "DE_9wcwAvzGW",
        "colab_type": "code",
        "colab": {}
      },
      "source": [
        "#THIS CODE IS SAMPLED TO EVALUTATE THE DENSENET NETWORK - change as needed if evaluating another network\n",
        "\n",
        "#Define data and model directories\n",
        "data_dir = '/content/drive/My Drive/DATA_DIR/'\n",
        "model_dir = '/content/drive/My Drive/Full_Data/DenseNet_v1/classification_model_densenet.pt'\n",
        "save_folder = '/content/drive/My Drive/Eval on Test Data Results/DenseNet/'\n",
        "\n",
        "# Number of classes in the dataset\n",
        "num_classes = 2\n",
        "\n",
        "#input size of images going into model\n",
        "input_size = 800"
      ],
      "execution_count": null,
      "outputs": []
    },
    {
      "cell_type": "code",
      "metadata": {
        "id": "5xzeRYhov1ij",
        "colab_type": "code",
        "colab": {}
      },
      "source": [
        "labels_test = pd.read_csv(data_dir + 'test.csv', na_filter=False)\n",
        "\n",
        "img_class_dict_test = dict(zip(labels_test.image_name, labels_test.annotation))"
      ],
      "execution_count": null,
      "outputs": []
    },
    {
      "cell_type": "code",
      "metadata": {
        "id": "axlYU2GXXyUb",
        "colab_type": "code",
        "colab": {}
      },
      "source": [
        "#original download test.csv file had /test/ infront of all image names this box was used to change this to just the image name\n",
        "\n",
        "# image_list = []\n",
        "\n",
        "# for i in range(1000):\n",
        "\n",
        "#     image_string = labels_test.image_path[i][5:]\n",
        "#     image_list.append(image_string)\n",
        "\n",
        "\n",
        "# test_reformatted = pd.DataFrame({'image_name': image_list, 'annotation': labels_test.annotation})\n",
        "\n",
        "# test_reformatted.to_csv(data_dir+'test.csv',columns=['image_name', 'annotation'], sep=',', index=None)"
      ],
      "execution_count": null,
      "outputs": []
    },
    {
      "cell_type": "code",
      "metadata": {
        "id": "VI12KPfVv9bH",
        "colab_type": "code",
        "colab": {}
      },
      "source": [
        "class ForeignObjectDataset(object):\n",
        "    \n",
        "    def __init__(self, datafolder, datatype='train', transform = True, labels_dict={}):\n",
        "        self.datafolder = datafolder\n",
        "        self.datatype = datatype\n",
        "        self.labels_dict = labels_dict\n",
        "        self.image_files_list = [s for s in sorted(os.listdir(datafolder)) if s in labels_dict.keys()]\n",
        "        self.transform = transform\n",
        "        self.annotations = [labels_dict[i] for i in self.image_files_list]\n",
        "            \n",
        "    def __getitem__(self, idx):\n",
        "        # load images \n",
        "        img_name = self.image_files_list[idx]\n",
        "        img_path = os.path.join(self.datafolder, img_name)\n",
        "        img = Image.open(img_path).convert(\"RGB\")\n",
        "        width, height = img.size[0],img.size[1]  \n",
        "\n",
        "        if self.datatype == 'test':\n",
        "\n",
        "            if self.labels_dict[img_name] == '':\n",
        "                label = 0\n",
        "            else:\n",
        "                label = 1\n",
        "            \n",
        "            if self.transform is not None:\n",
        "                img = self.transform(img)\n",
        "\n",
        "            return img, label\n",
        "\n",
        "        \n",
        "\n",
        "    def __len__(self):\n",
        "        return len(self.image_files_list)"
      ],
      "execution_count": null,
      "outputs": []
    },
    {
      "cell_type": "code",
      "metadata": {
        "id": "0oQVRCNFxIGU",
        "colab_type": "code",
        "colab": {}
      },
      "source": [
        "# Just normalization for test data\n",
        "\n",
        "data_transforms = {\n",
        "    'test': transforms.Compose([\n",
        "        transforms.Resize((input_size,input_size)),\n",
        "        transforms.ToTensor(),\n",
        "        transforms.Normalize([0.485, 0.456, 0.406], [0.229, 0.224, 0.225])\n",
        "    ]),\n",
        "}\n",
        "\n",
        "print(\"Initializing Datasets and Dataloaders...\")\n",
        "\n",
        "dataset_test = ForeignObjectDataset(datafolder= data_dir + 'test/', datatype='test', transform=data_transforms['test'], labels_dict=img_class_dict_test)\n"
      ],
      "execution_count": null,
      "outputs": []
    },
    {
      "cell_type": "code",
      "metadata": {
        "id": "TUmLMGqkwDM-",
        "colab_type": "code",
        "colab": {}
      },
      "source": [
        "data_loader_test = torch.utils.data.DataLoader(\n",
        "    dataset_test, batch_size=1, shuffle= False, num_workers=4,\n",
        "    collate_fn=utils.collate_fn)\n",
        "\n",
        "# Create training and validation dataloaders\n",
        "dataloaders_dict = {'test': data_loader_test}\n",
        "\n",
        "# Detect if we have a GPU available\n",
        "device = torch.device(\"cuda:0\" if torch.cuda.is_available() else \"cpu\")"
      ],
      "execution_count": null,
      "outputs": []
    },
    {
      "cell_type": "code",
      "metadata": {
        "id": "su88Puz1wOS9",
        "colab_type": "code",
        "colab": {}
      },
      "source": [
        "# #VGG\n",
        "# def _get_model(num_classes,feature_extract):    \n",
        "#     model = models.vgg11_bn(pretrained=True)    \n",
        "#     num_ftrs = model.classifier[6].in_features    \n",
        "#     model.classifier[6] = nn.Linear(num_ftrs,num_classes)    \n",
        "#     return model\n",
        "\n",
        "# #Squeezenet\n",
        "# def _get_model(num_classes,feature_extract):\n",
        "#     model = models.squeezenet1_0(pretrained=True)\n",
        "#     model.classifier[1] = nn.Conv2d(512, num_classes, kernel_size=(1,1), stride=(1,1))\n",
        "#     model.num_classes = num_classes\n",
        "#     return model\n",
        "\n",
        "# #ResNet101\n",
        "# def _get_model(num_classes,feature_extract):\n",
        "#     model = models.resnet101(pretrained = True)\n",
        "#     num_ftrs = model.fc.in_features\n",
        "#     model.fc = nn.Linear(num_ftrs, num_classes)\n",
        "#     return model\n",
        "\n",
        "# #ResNet50\n",
        "# def _get_model(num_classes,feature_extract):\n",
        "#     model = models.resnet50(pretrained = True)\n",
        "#     num_ftrs = model.fc.in_features\n",
        "#     model.fc = nn.Linear(num_ftrs, num_classes)\n",
        "#     return model\n",
        "\n",
        "# #InceptionV3\n",
        "# def _get_model(num_classes,feature_extract):    \n",
        "#     model = models.inception_v3(pretrained=True)       \n",
        "#     # Handle the auxilary net    \n",
        "#     num_ftrs = model.AuxLogits.fc.in_features    \n",
        "#     model.AuxLogits.fc = nn.Linear(num_ftrs, num_classes)    \n",
        "#     # Handle the primary net    \n",
        "#     num_ftrs = model.fc.in_features    \n",
        "#     model.fc = nn.Linear(num_ftrs,num_classes)    \n",
        "#     return model\n",
        "\n",
        "#DenseNet\n",
        "def _get_model(num_classes,feature_extract):    \n",
        "    model = models.densenet121(pretrained=True)   \n",
        "    num_ftrs = model.classifier.in_features    \n",
        "    model.classifier = nn.Linear(num_ftrs, num_classes)\n",
        "    return model"
      ],
      "execution_count": null,
      "outputs": []
    },
    {
      "cell_type": "code",
      "metadata": {
        "id": "NvPdH6YjwMof",
        "colab_type": "code",
        "colab": {}
      },
      "source": [
        "model = _get_model(num_classes,feature_extract)\n",
        "model.to(device)\n",
        "model.load_state_dict(torch.load(model_dir))\n",
        "\n",
        "with torch.no_grad():\n",
        "  model.eval()\n",
        "\n",
        "  preds_prob = []\n",
        "  labels = []\n",
        "  locs = []\n",
        "\n",
        "  for image, label in tqdm(dataloaders_dict['test']):\n",
        "      \n",
        "      image = torch.stack(image)\n",
        "      image = image.to(device)\n",
        "\n",
        "      labels.append(label[-1])\n",
        "      \n",
        "      outputs = model(image)\n",
        "      outputs = torch.nn.Softmax(dim = 1)(outputs)\n",
        "\n",
        "      preds_prob.append(outputs[0][1])\n",
        "\n",
        "preds_prob=torch.Tensor(preds_prob)\n",
        "preds_prob=preds_prob.tolist()"
      ],
      "execution_count": null,
      "outputs": []
    },
    {
      "cell_type": "code",
      "metadata": {
        "id": "Fpp5nhpwwSHJ",
        "colab_type": "code",
        "colab": {}
      },
      "source": [
        "pred = []\n",
        "for i in range(len(preds_prob)):\n",
        "  if (preds_prob[i] >= .5):\n",
        "    pred.append(1)\n",
        "  else:\n",
        "    pred.append(0)\n",
        "\n",
        "gt = labels_test.annotation.astype(bool).astype(float).values\n",
        "\n",
        "plt.plot(gt, preds_prob,'.', Color = [0,0,0,0.1])\n",
        "plt.ylim((0,1))"
      ],
      "execution_count": null,
      "outputs": []
    },
    {
      "cell_type": "code",
      "metadata": {
        "id": "ksnvX0xhwTTH",
        "colab_type": "code",
        "colab": {}
      },
      "source": [
        "acc = (pred == gt).mean()\n",
        "fpr, tpr, _ = roc_curve(gt, preds_prob)\n",
        "roc_auc = auc(fpr, tpr)"
      ],
      "execution_count": null,
      "outputs": []
    },
    {
      "cell_type": "code",
      "metadata": {
        "id": "S2ZZMBZcwUOw",
        "colab_type": "code",
        "colab": {}
      },
      "source": [
        "fig, ax = plt.subplots(\n",
        "    subplot_kw=dict(xlim=[0, 1], ylim=[0, 1], aspect='equal'),\n",
        "    figsize=(6, 6)\n",
        ")\n",
        "ax.plot(fpr, tpr, label=f'ACC: {acc:.03}\\nAUC: {roc_auc:.03}')\n",
        "_ = ax.legend(loc=\"lower right\")\n",
        "_ = ax.set_title('ROC curve')\n",
        "ax.grid(linestyle='dashed')"
      ],
      "execution_count": null,
      "outputs": []
    },
    {
      "cell_type": "code",
      "metadata": {
        "id": "stB9n1uEwVYX",
        "colab_type": "code",
        "colab": {}
      },
      "source": [
        "cls_res = pd.DataFrame({'image_name': dataset_test.image_files_list, 'prediction': preds_prob})\n",
        "cls_res.to_csv(save_folder + 'test_classification.csv', columns=['image_name', 'prediction'], sep=',', index=None)\n",
        "print('classification.csv generated.')"
      ],
      "execution_count": null,
      "outputs": []
    }
  ]
}