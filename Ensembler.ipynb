{
  "nbformat": 4,
  "nbformat_minor": 0,
  "metadata": {
    "colab": {
      "name": " Ensembler",
      "provenance": [],
      "private_outputs": true,
      "collapsed_sections": []
    },
    "kernelspec": {
      "name": "python3",
      "display_name": "Python 3"
    }
  },
  "cells": [
    {
      "cell_type": "code",
      "metadata": {
        "id": "p0Rk2a1ulXZ_",
        "colab_type": "code",
        "colab": {}
      },
      "source": [
        "from google.colab import drive\n",
        "drive.mount('/content/drive')"
      ],
      "execution_count": null,
      "outputs": []
    },
    {
      "cell_type": "code",
      "metadata": {
        "id": "x9HF3NcSldvt",
        "colab_type": "code",
        "colab": {}
      },
      "source": [
        "data_dir = '/content/drive/My Drive/DATA_DIR/'\n",
        "save_folder = '/content/drive/My Drive/Full_Data/Ensemble_ensemblers/'\n",
        "\n",
        "vgg = '/content/drive/My Drive/Eval on Test Data Results/VGG/'\n",
        "squeezenet = '/content/drive/My Drive/Eval on Test Data Results/SqueezeNet/'\n",
        "resnet101 = '/content/drive/My Drive/Eval on Test Data Results/ResNet101/'\n",
        "resnet50 = '/content/drive/My Drive/Eval on Test Data Results/ResNet50/'\n",
        "inception = '/content/drive/My Drive/Eval on Test Data Results/Inception/'\n",
        "densenet = '/content/drive/My Drive/Eval on Test Data Results/DenseNet/'\n",
        "\n",
        "ensemble_1 = '/content/drive/My Drive/Full_Data/Ensemble_ensemblers/classification_ensemble_1.csv'\n",
        "ensemble_2 = '/content/drive/My Drive/Full_Data/Ensemble_ensemblers/classification_ensemble_2.csv'\n",
        "ensemble_3 = '/content/drive/My Drive/Full_Data/Ensemble_ensemblers/classification_ensemble_3.csv'\n",
        "\n",
        "vgg_auc = 0.933\n",
        "squeezenet_auc = 0.895\n",
        "resnet101_auc = 0.948\n",
        "resnet50_auc = 0.935\n",
        "inception_auc = 0.939\n",
        "densenet_auc = 0.940\n",
        "\n",
        "save = False"
      ],
      "execution_count": null,
      "outputs": []
    },
    {
      "cell_type": "markdown",
      "metadata": {
        "id": "NNCyRqUumJcZ",
        "colab_type": "text"
      },
      "source": [
        "## Initialise"
      ]
    },
    {
      "cell_type": "code",
      "metadata": {
        "id": "ezFQ2CbolbWB",
        "colab_type": "code",
        "colab": {}
      },
      "source": [
        "import sys\n",
        "sys.path.append('/content/drive/My Drive/')"
      ],
      "execution_count": null,
      "outputs": []
    },
    {
      "cell_type": "code",
      "metadata": {
        "id": "gsdkMbWXlcdA",
        "colab_type": "code",
        "colab": {}
      },
      "source": [
        "import torch\n",
        "import torch.nn as nn\n",
        "import torch.optim as optim\n",
        "import numpy as np\n",
        "import torchvision\n",
        "from torchvision import datasets, models, transforms\n",
        "import os\n",
        "import pandas as pd\n",
        "import matplotlib.pyplot as plt\n",
        "\n",
        "from PIL import Image, ImageDraw\n",
        "from sklearn.metrics import roc_auc_score, roc_curve, auc\n",
        "from tqdm import tqdm\n",
        "import math\n",
        "\n",
        "from __future__ import print_function\n",
        "from __future__ import division\n",
        "\n",
        "import time\n",
        "import copy\n",
        "\n",
        "import itertools  \n",
        "import collections "
      ],
      "execution_count": null,
      "outputs": []
    },
    {
      "cell_type": "markdown",
      "metadata": {
        "id": "vhRMAOiImLYc",
        "colab_type": "text"
      },
      "source": [
        "## Import Data"
      ]
    },
    {
      "cell_type": "code",
      "metadata": {
        "id": "Gm-z-GoWpAvK",
        "colab_type": "code",
        "colab": {}
      },
      "source": [
        "labels_tr = pd.read_csv(data_dir + 'train.csv', na_filter=False)\n",
        "labels_dev = pd.read_csv(data_dir + 'dev.csv', na_filter=False)\n",
        "labels_test = pd.read_csv(data_dir + 'test.csv', na_filter=False)"
      ],
      "execution_count": null,
      "outputs": []
    },
    {
      "cell_type": "code",
      "metadata": {
        "id": "G9LCpgJemH77",
        "colab_type": "code",
        "colab": {}
      },
      "source": [
        "vgg_pred = pd.read_csv(vgg + 'test_classification.csv', na_filter=False)\n",
        "squeezenet_pred = pd.read_csv(squeezenet + 'test_classification.csv', na_filter=False)\n",
        "resnet101_pred = pd.read_csv(resnet101 + 'test_classification.csv', na_filter=False)\n",
        "resnet50_pred = pd.read_csv(resnet50 + 'test_classification.csv', na_filter=False)\n",
        "inception_pred = pd.read_csv(inception + 'test_classification.csv', na_filter=False)\n",
        "densenet_pred = pd.read_csv(densenet + 'test_classification.csv', na_filter=False)\n",
        "\n",
        "ensemble_1_pred = pd.read_csv(ensemble_1, na_filter=False)\n",
        "ensemble_2_pred = pd.read_csv(ensemble_2, na_filter=False)\n",
        "ensemble_3_pred = pd.read_csv(ensemble_3, na_filter=False)\n"
      ],
      "execution_count": null,
      "outputs": []
    },
    {
      "cell_type": "code",
      "metadata": {
        "id": "CelhNnvCmrjg",
        "colab_type": "code",
        "colab": {}
      },
      "source": [
        "vgg_dict = dict(zip(vgg_pred.image_name, vgg_pred.prediction))\n",
        "squeezenet_dict = dict(zip(squeezenet_pred.image_name, squeezenet_pred.prediction))\n",
        "resnet101_dict = dict(zip(resnet101_pred.image_name, resnet101_pred.prediction))\n",
        "resnet50_dict =  dict(zip(resnet50_pred.image_name, resnet50_pred.prediction))\n",
        "inception_dict = dict(zip(inception_pred.image_name, inception_pred.prediction))\n",
        "densenet_dict = dict(zip(densenet_pred.image_name, densenet_pred.prediction))\n",
        "\n",
        "ensemble_1_dict = dict(zip(ensemble_1_pred.image_name, ensemble_1_pred.prediction))\n",
        "ensemble_2_dict = dict(zip(ensemble_2_pred.image_name, ensemble_2_pred.prediction))\n",
        "ensemble_3_dict = dict(zip(ensemble_3_pred.image_name, ensemble_3_pred.prediction))"
      ],
      "execution_count": null,
      "outputs": []
    },
    {
      "cell_type": "markdown",
      "metadata": {
        "id": "tpbmohPlnsdk",
        "colab_type": "text"
      },
      "source": [
        "## Ensemble Models"
      ]
    },
    {
      "cell_type": "markdown",
      "metadata": {
        "id": "wbzxLCEMYR0e",
        "colab_type": "text"
      },
      "source": [
        "### average"
      ]
    },
    {
      "cell_type": "code",
      "metadata": {
        "id": "7DQ6teoyYC0w",
        "colab_type": "code",
        "colab": {}
      },
      "source": [
        "# using defaultdict \n",
        "Cdict = collections.defaultdict(float) \n",
        "numofdicts = 3\n",
        "\n",
        "# iterating key, val with chain() \n",
        "for key, val in itertools.chain(vgg_dict.items(),\n",
        "                                squeezenet_dict.items(),\n",
        "                                resnet101_dict.items(), \n",
        "                                resnet50_dict.items(), \n",
        "                                inception_dict.items(), \n",
        "                                densenet_dict.items()): \n",
        "\n",
        "    Cdict[key] += val / numofdicts\n",
        "\n",
        "preds_prob = list(Cdict.values())"
      ],
      "execution_count": null,
      "outputs": []
    },
    {
      "cell_type": "markdown",
      "metadata": {
        "id": "FMQxTssoYSXf",
        "colab_type": "text"
      },
      "source": [
        "### majority voting"
      ]
    },
    {
      "cell_type": "code",
      "metadata": {
        "id": "zBVCbFSdnubL",
        "colab_type": "code",
        "colab": {}
      },
      "source": [
        "# using defaultdict \n",
        "final_dict = collections.defaultdict(float) \n",
        "vote_dict = collections.defaultdict(float) \n",
        "novote_dict = collections.defaultdict(float) \n",
        "vote_prob_dict = collections.defaultdict(float) \n",
        "novote_prob_dict = collections.defaultdict(float)\n",
        "counter_dict =  collections.defaultdict(float)\n",
        "\n",
        "\n",
        "# iterating key, val with chain() \n",
        "for key, val in itertools.chain(vgg_dict.items(),\n",
        "                                squeezenet_dict.items(),\n",
        "                                resnet101_dict.items(), \n",
        "                                resnet50_dict.items(), \n",
        "                                inception_dict.items(), \n",
        "                                densenet_dict.items()):\n",
        "    counter_dict[key] += 1\n",
        "    if val > 0.5:\n",
        "        vote_dict[key] +=1\n",
        "        vote_prob_dict[key] += val\n",
        "    else:\n",
        "        novote_dict[key] +=1\n",
        "        novote_prob_dict[key] += val\n",
        "    if vote_dict[key] / counter_dict[key] > 0.5:\n",
        "        final_dict[key] = vote_prob_dict[key] / vote_dict[key]\n",
        "    else:\n",
        "        final_dict[key] = novote_prob_dict[key] / novote_dict[key]\n",
        "      \n",
        "preds_prob = list(final_dict.values())"
      ],
      "execution_count": null,
      "outputs": []
    },
    {
      "cell_type": "markdown",
      "metadata": {
        "id": "vKU2kfM1DBr7",
        "colab_type": "text"
      },
      "source": [
        "### weighted average"
      ]
    },
    {
      "cell_type": "code",
      "metadata": {
        "id": "JF6pDtDtAKaR",
        "colab_type": "code",
        "colab": {}
      },
      "source": [
        "AUC = torch.tensor([vgg_auc, squeezenet_auc, resnet101_auc, resnet50_auc, inception_auc, densenet_auc])\n",
        "outputs = torch.nn.Softmax(dim=0)(AUC * 150)\n",
        "print(outputs)"
      ],
      "execution_count": null,
      "outputs": []
    },
    {
      "cell_type": "code",
      "metadata": {
        "id": "3l3v2b01Bc2E",
        "colab_type": "code",
        "colab": {}
      },
      "source": [
        "# using defaultdict \n",
        "Cdict = collections.defaultdict(float) \n",
        "\n",
        "n = 0\n",
        "# iterating key, val with chain() \n",
        "for key, val in itertools.chain(vgg_dict.items(),\n",
        "                                squeezenet_dict.items(),\n",
        "                                resnet101_dict.items(), \n",
        "                                resnet50_dict.items(), \n",
        "                                #resnet50baseline_dict.items(), \n",
        "                                inception_dict.items(), \n",
        "                                densenet_dict.items()): \n",
        "    if n < 1000:\n",
        "        model = 0\n",
        "    elif n < 2000:\n",
        "        model = 1\n",
        "    elif n < 3000:\n",
        "        model = 2\n",
        "    elif n < 4000:\n",
        "       model = 3\n",
        "    elif n < 5000:\n",
        "        model = 4\n",
        "    elif n < 6000:\n",
        "        model = 5\n",
        "    elif n < 7000:\n",
        "        model = 6\n",
        "    else:\n",
        "        model = 7\n",
        "    n += 1 \n",
        "\n",
        "\n",
        "    Cdict[key] += val * outputs[model]\n",
        "\n",
        "preds_prob_values = list(Cdict.values())\n",
        "\n",
        "preds_prob = []\n",
        "\n",
        "for i in range(len(preds_prob_values)):\n",
        "    preds_prob.append(preds_prob_values[i].item())\n"
      ],
      "execution_count": null,
      "outputs": []
    },
    {
      "cell_type": "code",
      "metadata": {
        "id": "NBOU15RznZmv",
        "colab_type": "code",
        "colab": {}
      },
      "source": [
        "n = 0\n",
        "num_images = 10\n",
        "\n",
        "for i in range(80):\n",
        "\n",
        "    model = math.floor(n/(num_images))\n",
        "    n +=1\n",
        "    print(model)"
      ],
      "execution_count": null,
      "outputs": []
    },
    {
      "cell_type": "markdown",
      "metadata": {
        "id": "FPWLaWdMGDFS",
        "colab_type": "text"
      },
      "source": [
        "### output ensemble \n"
      ]
    },
    {
      "cell_type": "code",
      "metadata": {
        "id": "Btt10F_RGChl",
        "colab_type": "code",
        "colab": {}
      },
      "source": [
        "if save:\n",
        "  cls_res = pd.DataFrame({'image_name': labels_dev.image_name, 'prediction': preds_prob})\n",
        "  cls_res.to_csv(save_folder + 'classification_ensemble_ensemblers.csv', columns=['image_name', 'prediction'], sep=',', index=None)\n",
        "  print('classification.csv generated.')"
      ],
      "execution_count": null,
      "outputs": []
    },
    {
      "cell_type": "markdown",
      "metadata": {
        "id": "XAgBC0aynYqT",
        "colab_type": "text"
      },
      "source": [
        "## Calculate AUC"
      ]
    },
    {
      "cell_type": "code",
      "metadata": {
        "id": "gPESSg0_F94_",
        "colab_type": "code",
        "colab": {}
      },
      "source": [
        "gt = labels_test.annotation.astype(bool).astype(float).values\n",
        "pred = []\n",
        "for i in range(len(preds_prob)):\n",
        "  if preds_prob[i] >= 0.5:\n",
        "      pred.append(1)\n",
        "  else:\n",
        "      pred.append(0)\n",
        "\n",
        "indecies = []\n",
        "for i in range(len(pred)):\n",
        "  if gt[i] != pred[i]:\n",
        "    indecies.append(i)\n",
        "\n",
        "print(len(indecies))"
      ],
      "execution_count": null,
      "outputs": []
    },
    {
      "cell_type": "code",
      "metadata": {
        "id": "kG_HTdiOnSAf",
        "colab_type": "code",
        "colab": {}
      },
      "source": [
        "fpr, tpr, _ = roc_curve(gt, preds_prob)\n",
        "roc_auc = auc(fpr, tpr)"
      ],
      "execution_count": null,
      "outputs": []
    },
    {
      "cell_type": "code",
      "metadata": {
        "id": "PvkgULeunT6_",
        "colab_type": "code",
        "colab": {}
      },
      "source": [
        "fig, ax = plt.subplots(\n",
        "    subplot_kw=dict(xlim=[0, 1], ylim=[0, 1], aspect='equal'),\n",
        "    figsize=(6, 6)\n",
        ")\n",
        "ax.plot(fpr, tpr, label=f'AUC: {roc_auc:.03}')\n",
        "_ = ax.legend(loc=\"lower right\")\n",
        "_ = ax.set_title('ROC curve')\n",
        "ax.grid(linestyle='dashed')"
      ],
      "execution_count": null,
      "outputs": []
    }
  ]
}